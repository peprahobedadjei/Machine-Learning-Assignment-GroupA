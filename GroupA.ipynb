{
 "cells": [
  {
   "cell_type": "code",
   "execution_count": 1,
   "metadata": {},
   "outputs": [],
   "source": [
    "import os\n",
    "import cv2\n",
    "import csv\n",
    "import numpy as np\n",
    "import pandas as pd\n",
    "from time import time\n",
    "from tensorflow.keras import utils\n",
    "from tensorflow.keras.optimizers import Adam\n",
    "from tensorflow.keras.models import Sequential\n",
    "from tensorflow.keras.layers import Dense, Flatten, Conv2D, MaxPooling2D, Dropout, BatchNormalization\n",
    "from tensorflow.keras.applications import VGG16\n",
    "import matplotlib.pyplot as plt\n",
    "import random\n",
    "%matplotlib inline"
   ]
  },
  {
   "cell_type": "code",
   "execution_count": null,
   "metadata": {},
   "outputs": [],
   "source": [
    "# Display library versions\n",
    "print(\"Library Versions:\")\n",
    "print(f\"OS: {os.name}\")\n",
    "print(f\"OpenCV version: {cv2.__version__}\")\n",
    "print(f\"NumPy version: {np.__version__}\")\n",
    "print(f\"Pandas version: {pd.__version__}\")\n",
    "print(f\"TensorFlow version: {tf.__version__}\")\n",
    "print(f\"Matplotlib version: {plt.matplotlib.__version__}\")\n",
    "\n",
    "# Check if TensorFlow is using GPU or CPU\n",
    "print(\"\\nTensorFlow Device Status:\")\n",
    "if tf.test.is_gpu_available():\n",
    "    print(\"TensorFlow is using GPU.\")\n",
    "    print(f\"Available GPU devices: {tf.config.list_physical_devices('GPU')}\")\n",
    "else:\n",
    "    print(\"TensorFlow is using CPU.\")"
   ]
  },
  {
   "cell_type": "code",
   "execution_count": null,
   "metadata": {},
   "outputs": [],
   "source": [
    "# Initial Variables \n",
    "MIN_IMGS_IN_CLASS=500;\n",
    "image_size = 50;"
   ]
  },
  {
   "cell_type": "code",
   "execution_count": null,
   "metadata": {},
   "outputs": [],
   "source": [
    "# Here is the meta files on the 43 seperate traffic sign classes we are learning to identify \n",
    "plt.figure(figsize=(18, 18))\n",
    "for i in range (0,43):\n",
    "    plt.subplot(8,8,i+1)\n",
    "    plt.xticks([])\n",
    "    plt.yticks([])\n",
    "    path = \"data/meta/{0}.png\".format(i)\n",
    "    img = plt.imread(path)\n",
    "    plt.imshow(img)\n",
    "    plt.xlabel(i)"
   ]
  },
  {
   "cell_type": "code",
   "execution_count": null,
   "metadata": {},
   "outputs": [],
   "source": [
    "Test"
   ]
  }
 ],
 "metadata": {
  "kernelspec": {
   "display_name": "project_env",
   "language": "python",
   "name": "python3"
  },
  "language_info": {
   "codemirror_mode": {
    "name": "ipython",
    "version": 3
   },
   "file_extension": ".py",
   "mimetype": "text/x-python",
   "name": "python",
   "nbconvert_exporter": "python",
   "pygments_lexer": "ipython3",
   "version": "3.9.20"
  }
 },
 "nbformat": 4,
 "nbformat_minor": 2
}
